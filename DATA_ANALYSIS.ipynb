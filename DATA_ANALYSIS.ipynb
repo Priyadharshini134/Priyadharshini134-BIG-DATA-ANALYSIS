{
  "nbformat": 4,
  "nbformat_minor": 0,
  "metadata": {
    "colab": {
      "provenance": []
    },
    "kernelspec": {
      "name": "python3",
      "display_name": "Python 3"
    },
    "language_info": {
      "name": "python"
    }
  },
  "cells": [
    {
      "cell_type": "markdown",
      "source": [],
      "metadata": {
        "id": "AMm-BdLXFnL2"
      }
    },
    {
      "cell_type": "markdown",
      "source": [
        "# **BIG DATA ANALYSIS**"
      ],
      "metadata": {
        "id": "RjmGwMLIFpS1"
      }
    },
    {
      "cell_type": "code",
      "execution_count": null,
      "metadata": {
        "colab": {
          "base_uri": "https://localhost:8080/"
        },
        "id": "xEpVt2VuqK-q",
        "outputId": "e1c2df6c-4107-4277-dc4a-8db2dbb282f2"
      },
      "outputs": [
        {
          "output_type": "stream",
          "name": "stdout",
          "text": [
            "Requirement already satisfied: pyspark in /usr/local/lib/python3.11/dist-packages (3.5.1)\n",
            "Requirement already satisfied: py4j==0.10.9.7 in /usr/local/lib/python3.11/dist-packages (from pyspark) (0.10.9.7)\n"
          ]
        }
      ],
      "source": [
        "!pip install pyspark\n"
      ]
    },
    {
      "cell_type": "code",
      "source": [
        "from google.colab import files\n",
        "uploaded = files.upload()\n"
      ],
      "metadata": {
        "colab": {
          "base_uri": "https://localhost:8080/",
          "height": 342
        },
        "id": "JZG13IaDqomI",
        "outputId": "c4333a84-e1a1-4f3e-93e8-a6b5a8005c63"
      },
      "execution_count": null,
      "outputs": [
        {
          "output_type": "display_data",
          "data": {
            "text/plain": [
              "<IPython.core.display.HTML object>"
            ],
            "text/html": [
              "\n",
              "     <input type=\"file\" id=\"files-064272f2-1776-43e8-8fb9-d22c44de9f45\" name=\"files[]\" multiple disabled\n",
              "        style=\"border:none\" />\n",
              "     <output id=\"result-064272f2-1776-43e8-8fb9-d22c44de9f45\">\n",
              "      Upload widget is only available when the cell has been executed in the\n",
              "      current browser session. Please rerun this cell to enable.\n",
              "      </output>\n",
              "      <script>// Copyright 2017 Google LLC\n",
              "//\n",
              "// Licensed under the Apache License, Version 2.0 (the \"License\");\n",
              "// you may not use this file except in compliance with the License.\n",
              "// You may obtain a copy of the License at\n",
              "//\n",
              "//      http://www.apache.org/licenses/LICENSE-2.0\n",
              "//\n",
              "// Unless required by applicable law or agreed to in writing, software\n",
              "// distributed under the License is distributed on an \"AS IS\" BASIS,\n",
              "// WITHOUT WARRANTIES OR CONDITIONS OF ANY KIND, either express or implied.\n",
              "// See the License for the specific language governing permissions and\n",
              "// limitations under the License.\n",
              "\n",
              "/**\n",
              " * @fileoverview Helpers for google.colab Python module.\n",
              " */\n",
              "(function(scope) {\n",
              "function span(text, styleAttributes = {}) {\n",
              "  const element = document.createElement('span');\n",
              "  element.textContent = text;\n",
              "  for (const key of Object.keys(styleAttributes)) {\n",
              "    element.style[key] = styleAttributes[key];\n",
              "  }\n",
              "  return element;\n",
              "}\n",
              "\n",
              "// Max number of bytes which will be uploaded at a time.\n",
              "const MAX_PAYLOAD_SIZE = 100 * 1024;\n",
              "\n",
              "function _uploadFiles(inputId, outputId) {\n",
              "  const steps = uploadFilesStep(inputId, outputId);\n",
              "  const outputElement = document.getElementById(outputId);\n",
              "  // Cache steps on the outputElement to make it available for the next call\n",
              "  // to uploadFilesContinue from Python.\n",
              "  outputElement.steps = steps;\n",
              "\n",
              "  return _uploadFilesContinue(outputId);\n",
              "}\n",
              "\n",
              "// This is roughly an async generator (not supported in the browser yet),\n",
              "// where there are multiple asynchronous steps and the Python side is going\n",
              "// to poll for completion of each step.\n",
              "// This uses a Promise to block the python side on completion of each step,\n",
              "// then passes the result of the previous step as the input to the next step.\n",
              "function _uploadFilesContinue(outputId) {\n",
              "  const outputElement = document.getElementById(outputId);\n",
              "  const steps = outputElement.steps;\n",
              "\n",
              "  const next = steps.next(outputElement.lastPromiseValue);\n",
              "  return Promise.resolve(next.value.promise).then((value) => {\n",
              "    // Cache the last promise value to make it available to the next\n",
              "    // step of the generator.\n",
              "    outputElement.lastPromiseValue = value;\n",
              "    return next.value.response;\n",
              "  });\n",
              "}\n",
              "\n",
              "/**\n",
              " * Generator function which is called between each async step of the upload\n",
              " * process.\n",
              " * @param {string} inputId Element ID of the input file picker element.\n",
              " * @param {string} outputId Element ID of the output display.\n",
              " * @return {!Iterable<!Object>} Iterable of next steps.\n",
              " */\n",
              "function* uploadFilesStep(inputId, outputId) {\n",
              "  const inputElement = document.getElementById(inputId);\n",
              "  inputElement.disabled = false;\n",
              "\n",
              "  const outputElement = document.getElementById(outputId);\n",
              "  outputElement.innerHTML = '';\n",
              "\n",
              "  const pickedPromise = new Promise((resolve) => {\n",
              "    inputElement.addEventListener('change', (e) => {\n",
              "      resolve(e.target.files);\n",
              "    });\n",
              "  });\n",
              "\n",
              "  const cancel = document.createElement('button');\n",
              "  inputElement.parentElement.appendChild(cancel);\n",
              "  cancel.textContent = 'Cancel upload';\n",
              "  const cancelPromise = new Promise((resolve) => {\n",
              "    cancel.onclick = () => {\n",
              "      resolve(null);\n",
              "    };\n",
              "  });\n",
              "\n",
              "  // Wait for the user to pick the files.\n",
              "  const files = yield {\n",
              "    promise: Promise.race([pickedPromise, cancelPromise]),\n",
              "    response: {\n",
              "      action: 'starting',\n",
              "    }\n",
              "  };\n",
              "\n",
              "  cancel.remove();\n",
              "\n",
              "  // Disable the input element since further picks are not allowed.\n",
              "  inputElement.disabled = true;\n",
              "\n",
              "  if (!files) {\n",
              "    return {\n",
              "      response: {\n",
              "        action: 'complete',\n",
              "      }\n",
              "    };\n",
              "  }\n",
              "\n",
              "  for (const file of files) {\n",
              "    const li = document.createElement('li');\n",
              "    li.append(span(file.name, {fontWeight: 'bold'}));\n",
              "    li.append(span(\n",
              "        `(${file.type || 'n/a'}) - ${file.size} bytes, ` +\n",
              "        `last modified: ${\n",
              "            file.lastModifiedDate ? file.lastModifiedDate.toLocaleDateString() :\n",
              "                                    'n/a'} - `));\n",
              "    const percent = span('0% done');\n",
              "    li.appendChild(percent);\n",
              "\n",
              "    outputElement.appendChild(li);\n",
              "\n",
              "    const fileDataPromise = new Promise((resolve) => {\n",
              "      const reader = new FileReader();\n",
              "      reader.onload = (e) => {\n",
              "        resolve(e.target.result);\n",
              "      };\n",
              "      reader.readAsArrayBuffer(file);\n",
              "    });\n",
              "    // Wait for the data to be ready.\n",
              "    let fileData = yield {\n",
              "      promise: fileDataPromise,\n",
              "      response: {\n",
              "        action: 'continue',\n",
              "      }\n",
              "    };\n",
              "\n",
              "    // Use a chunked sending to avoid message size limits. See b/62115660.\n",
              "    let position = 0;\n",
              "    do {\n",
              "      const length = Math.min(fileData.byteLength - position, MAX_PAYLOAD_SIZE);\n",
              "      const chunk = new Uint8Array(fileData, position, length);\n",
              "      position += length;\n",
              "\n",
              "      const base64 = btoa(String.fromCharCode.apply(null, chunk));\n",
              "      yield {\n",
              "        response: {\n",
              "          action: 'append',\n",
              "          file: file.name,\n",
              "          data: base64,\n",
              "        },\n",
              "      };\n",
              "\n",
              "      let percentDone = fileData.byteLength === 0 ?\n",
              "          100 :\n",
              "          Math.round((position / fileData.byteLength) * 100);\n",
              "      percent.textContent = `${percentDone}% done`;\n",
              "\n",
              "    } while (position < fileData.byteLength);\n",
              "  }\n",
              "\n",
              "  // All done.\n",
              "  yield {\n",
              "    response: {\n",
              "      action: 'complete',\n",
              "    }\n",
              "  };\n",
              "}\n",
              "\n",
              "scope.google = scope.google || {};\n",
              "scope.google.colab = scope.google.colab || {};\n",
              "scope.google.colab._files = {\n",
              "  _uploadFiles,\n",
              "  _uploadFilesContinue,\n",
              "};\n",
              "})(self);\n",
              "</script> "
            ]
          },
          "metadata": {}
        },
        {
          "output_type": "error",
          "ename": "KeyboardInterrupt",
          "evalue": "",
          "traceback": [
            "\u001b[0;31m---------------------------------------------------------------------------\u001b[0m",
            "\u001b[0;31mKeyboardInterrupt\u001b[0m                         Traceback (most recent call last)",
            "\u001b[0;32m/tmp/ipython-input-264872163.py\u001b[0m in \u001b[0;36m<cell line: 0>\u001b[0;34m()\u001b[0m\n\u001b[1;32m      1\u001b[0m \u001b[0;32mfrom\u001b[0m \u001b[0mgoogle\u001b[0m\u001b[0;34m.\u001b[0m\u001b[0mcolab\u001b[0m \u001b[0;32mimport\u001b[0m \u001b[0mfiles\u001b[0m\u001b[0;34m\u001b[0m\u001b[0;34m\u001b[0m\u001b[0m\n\u001b[0;32m----> 2\u001b[0;31m \u001b[0muploaded\u001b[0m \u001b[0;34m=\u001b[0m \u001b[0mfiles\u001b[0m\u001b[0;34m.\u001b[0m\u001b[0mupload\u001b[0m\u001b[0;34m(\u001b[0m\u001b[0;34m)\u001b[0m\u001b[0;34m\u001b[0m\u001b[0;34m\u001b[0m\u001b[0m\n\u001b[0m",
            "\u001b[0;32m/usr/local/lib/python3.11/dist-packages/google/colab/files.py\u001b[0m in \u001b[0;36mupload\u001b[0;34m(target_dir)\u001b[0m\n\u001b[1;32m     70\u001b[0m   \"\"\"\n\u001b[1;32m     71\u001b[0m \u001b[0;34m\u001b[0m\u001b[0m\n\u001b[0;32m---> 72\u001b[0;31m   \u001b[0muploaded_files\u001b[0m \u001b[0;34m=\u001b[0m \u001b[0m_upload_files\u001b[0m\u001b[0;34m(\u001b[0m\u001b[0mmultiple\u001b[0m\u001b[0;34m=\u001b[0m\u001b[0;32mTrue\u001b[0m\u001b[0;34m)\u001b[0m\u001b[0;34m\u001b[0m\u001b[0;34m\u001b[0m\u001b[0m\n\u001b[0m\u001b[1;32m     73\u001b[0m   \u001b[0;31m# Mapping from original filename to filename as saved locally.\u001b[0m\u001b[0;34m\u001b[0m\u001b[0;34m\u001b[0m\u001b[0m\n\u001b[1;32m     74\u001b[0m   \u001b[0mlocal_filenames\u001b[0m \u001b[0;34m=\u001b[0m \u001b[0mdict\u001b[0m\u001b[0;34m(\u001b[0m\u001b[0;34m)\u001b[0m\u001b[0;34m\u001b[0m\u001b[0;34m\u001b[0m\u001b[0m\n",
            "\u001b[0;32m/usr/local/lib/python3.11/dist-packages/google/colab/files.py\u001b[0m in \u001b[0;36m_upload_files\u001b[0;34m(multiple)\u001b[0m\n\u001b[1;32m    170\u001b[0m \u001b[0;34m\u001b[0m\u001b[0m\n\u001b[1;32m    171\u001b[0m   \u001b[0;32mwhile\u001b[0m \u001b[0mresult\u001b[0m\u001b[0;34m[\u001b[0m\u001b[0;34m'action'\u001b[0m\u001b[0;34m]\u001b[0m \u001b[0;34m!=\u001b[0m \u001b[0;34m'complete'\u001b[0m\u001b[0;34m:\u001b[0m\u001b[0;34m\u001b[0m\u001b[0;34m\u001b[0m\u001b[0m\n\u001b[0;32m--> 172\u001b[0;31m     result = _output.eval_js(\n\u001b[0m\u001b[1;32m    173\u001b[0m         'google.colab._files._uploadFilesContinue(\"{output_id}\")'.format(\n\u001b[1;32m    174\u001b[0m             \u001b[0moutput_id\u001b[0m\u001b[0;34m=\u001b[0m\u001b[0moutput_id\u001b[0m\u001b[0;34m\u001b[0m\u001b[0;34m\u001b[0m\u001b[0m\n",
            "\u001b[0;32m/usr/local/lib/python3.11/dist-packages/google/colab/output/_js.py\u001b[0m in \u001b[0;36meval_js\u001b[0;34m(script, ignore_result, timeout_sec)\u001b[0m\n\u001b[1;32m     38\u001b[0m   \u001b[0;32mif\u001b[0m \u001b[0mignore_result\u001b[0m\u001b[0;34m:\u001b[0m\u001b[0;34m\u001b[0m\u001b[0;34m\u001b[0m\u001b[0m\n\u001b[1;32m     39\u001b[0m     \u001b[0;32mreturn\u001b[0m\u001b[0;34m\u001b[0m\u001b[0;34m\u001b[0m\u001b[0m\n\u001b[0;32m---> 40\u001b[0;31m   \u001b[0;32mreturn\u001b[0m \u001b[0m_message\u001b[0m\u001b[0;34m.\u001b[0m\u001b[0mread_reply_from_input\u001b[0m\u001b[0;34m(\u001b[0m\u001b[0mrequest_id\u001b[0m\u001b[0;34m,\u001b[0m \u001b[0mtimeout_sec\u001b[0m\u001b[0;34m)\u001b[0m\u001b[0;34m\u001b[0m\u001b[0;34m\u001b[0m\u001b[0m\n\u001b[0m\u001b[1;32m     41\u001b[0m \u001b[0;34m\u001b[0m\u001b[0m\n\u001b[1;32m     42\u001b[0m \u001b[0;34m\u001b[0m\u001b[0m\n",
            "\u001b[0;32m/usr/local/lib/python3.11/dist-packages/google/colab/_message.py\u001b[0m in \u001b[0;36mread_reply_from_input\u001b[0;34m(message_id, timeout_sec)\u001b[0m\n\u001b[1;32m     94\u001b[0m     \u001b[0mreply\u001b[0m \u001b[0;34m=\u001b[0m \u001b[0m_read_next_input_message\u001b[0m\u001b[0;34m(\u001b[0m\u001b[0;34m)\u001b[0m\u001b[0;34m\u001b[0m\u001b[0;34m\u001b[0m\u001b[0m\n\u001b[1;32m     95\u001b[0m     \u001b[0;32mif\u001b[0m \u001b[0mreply\u001b[0m \u001b[0;34m==\u001b[0m \u001b[0m_NOT_READY\u001b[0m \u001b[0;32mor\u001b[0m \u001b[0;32mnot\u001b[0m \u001b[0misinstance\u001b[0m\u001b[0;34m(\u001b[0m\u001b[0mreply\u001b[0m\u001b[0;34m,\u001b[0m \u001b[0mdict\u001b[0m\u001b[0;34m)\u001b[0m\u001b[0;34m:\u001b[0m\u001b[0;34m\u001b[0m\u001b[0;34m\u001b[0m\u001b[0m\n\u001b[0;32m---> 96\u001b[0;31m       \u001b[0mtime\u001b[0m\u001b[0;34m.\u001b[0m\u001b[0msleep\u001b[0m\u001b[0;34m(\u001b[0m\u001b[0;36m0.025\u001b[0m\u001b[0;34m)\u001b[0m\u001b[0;34m\u001b[0m\u001b[0;34m\u001b[0m\u001b[0m\n\u001b[0m\u001b[1;32m     97\u001b[0m       \u001b[0;32mcontinue\u001b[0m\u001b[0;34m\u001b[0m\u001b[0;34m\u001b[0m\u001b[0m\n\u001b[1;32m     98\u001b[0m     if (\n",
            "\u001b[0;31mKeyboardInterrupt\u001b[0m: "
          ]
        }
      ]
    },
    {
      "cell_type": "markdown",
      "source": [],
      "metadata": {
        "id": "uCr0iNtDrhQF"
      }
    },
    {
      "cell_type": "code",
      "source": [
        "from pyspark.sql import SparkSession\n",
        "\n",
        "spark = SparkSession.builder \\\n",
        "    .appName(\"Reviews Analysis\") \\\n",
        "    .getOrCreate()\n"
      ],
      "metadata": {
        "id": "IHcNRsmXrHYC"
      },
      "execution_count": null,
      "outputs": []
    },
    {
      "cell_type": "code",
      "source": [
        "from pyspark.sql import SparkSession\n",
        "\n",
        "spark = SparkSession.builder \\\n",
        "    .appName(\"Reviews Analysis\") \\\n",
        "    .getOrCreate()\n"
      ],
      "metadata": {
        "id": "UIIh7ay5x4q7"
      },
      "execution_count": null,
      "outputs": []
    },
    {
      "cell_type": "code",
      "source": [
        "df = spark.read.csv(\"Reviews.csv\", header=True, inferSchema=True)\n"
      ],
      "metadata": {
        "id": "dods72TiyEle"
      },
      "execution_count": null,
      "outputs": []
    },
    {
      "cell_type": "code",
      "source": [
        "from pyspark.sql.functions import col, count, avg, desc\n",
        "\n",
        "# Convert Score to numeric type\n",
        "df = df.withColumn(\"Score\", col(\"Score\").cast(\"double\"))\n",
        "\n",
        "# Schema\n",
        "df.printSchema()\n",
        "\n",
        "# First 5 rows\n",
        "df.show(5)\n",
        "\n",
        "# Total rows\n",
        "print(\"Total rows:\", df.count())\n",
        "\n",
        "# Missing values\n",
        "df.select([count(col(c)).alias(c) for c in df.columns]).show()\n",
        "\n",
        "# Average score\n",
        "df.groupBy().avg(\"Score\").show()\n",
        "\n",
        "# Top 10 most reviewed products\n",
        "df.groupBy(\"ProductId\") \\\n",
        "  .agg(count(\"*\").alias(\"review_count\")) \\\n",
        "  .orderBy(desc(\"review_count\")) \\\n",
        "  .show(10)\n",
        "\n",
        "# Top 10 reviewers\n",
        "df.groupBy(\"UserId\") \\\n",
        "  .agg(count(\"*\").alias(\"review_count\")) \\\n",
        "  .orderBy(desc(\"review_count\")) \\\n",
        "  .show(10)\n",
        "\n",
        "# Rating distribution\n",
        "df.groupBy(\"Score\").count().orderBy(\"Score\").show()\n"
      ],
      "metadata": {
        "colab": {
          "base_uri": "https://localhost:8080/"
        },
        "id": "zymsxUGYyVs9",
        "outputId": "937a668c-c8f4-4a97-98f9-c49f21796665"
      },
      "execution_count": null,
      "outputs": [
        {
          "output_type": "stream",
          "name": "stdout",
          "text": [
            "root\n",
            " |-- Id: integer (nullable = true)\n",
            " |-- ProductId: string (nullable = true)\n",
            " |-- UserId: string (nullable = true)\n",
            " |-- ProfileName: string (nullable = true)\n",
            " |-- HelpfulnessNumerator: string (nullable = true)\n",
            " |-- HelpfulnessDenominator: string (nullable = true)\n",
            " |-- Score: double (nullable = true)\n",
            " |-- Time: string (nullable = true)\n",
            " |-- Summary: string (nullable = true)\n",
            " |-- Text: string (nullable = true)\n",
            "\n",
            "+---+----------+--------------+--------------------+--------------------+----------------------+-----+----------+--------------------+--------------------+\n",
            "| Id| ProductId|        UserId|         ProfileName|HelpfulnessNumerator|HelpfulnessDenominator|Score|      Time|             Summary|                Text|\n",
            "+---+----------+--------------+--------------------+--------------------+----------------------+-----+----------+--------------------+--------------------+\n",
            "|  1|B001E4KFG0|A3SGXH7AUHU8GW|          delmartian|                   1|                     1|  5.0|1303862400|Good Quality Dog ...|I have bought sev...|\n",
            "|  2|B00813GRG4|A1D87F6ZCVE5NK|              dll pa|                   0|                     0|  1.0|1346976000|   Not as Advertised|\"Product arrived ...|\n",
            "|  3|B000LQOCH0| ABXLMWJIXXAIN|\"Natalia Corres \"...|                   1|                     1|  4.0|1219017600|\"\"\"Delight\"\" says...|\"This is a confec...|\n",
            "|  4|B000UA0QIQ|A395BORC6FGVXV|                Karl|                   3|                     3|  2.0|1307923200|      Cough Medicine|If you are lookin...|\n",
            "|  5|B006K2ZZ7K|A1UQRSCLF8GW1T|\"Michael D. Bigha...|                   0|                     0|  5.0|1350777600|         Great taffy|Great taffy at a ...|\n",
            "+---+----------+--------------+--------------------+--------------------+----------------------+-----+----------+--------------------+--------------------+\n",
            "only showing top 5 rows\n",
            "\n",
            "Total rows: 568454\n",
            "+------+---------+------+-----------+--------------------+----------------------+------+------+-------+------+\n",
            "|    Id|ProductId|UserId|ProfileName|HelpfulnessNumerator|HelpfulnessDenominator| Score|  Time|Summary|  Text|\n",
            "+------+---------+------+-----------+--------------------+----------------------+------+------+-------+------+\n",
            "|568454|   568454|568454|     568454|              568452|                568452|568162|568449| 568448|568444|\n",
            "+------+---------+------+-----------+--------------------+----------------------+------+------+-------+------+\n",
            "\n",
            "+-----------------+\n",
            "|       avg(Score)|\n",
            "+-----------------+\n",
            "|4.176305349530591|\n",
            "+-----------------+\n",
            "\n",
            "+----------+------------+\n",
            "| ProductId|review_count|\n",
            "+----------+------------+\n",
            "|B007JFMH8M|         913|\n",
            "|B002QWP89S|         632|\n",
            "|B0026RQTGE|         632|\n",
            "|B002QWHJOU|         632|\n",
            "|B002QWP8H0|         632|\n",
            "|B003B3OOPA|         623|\n",
            "|B001EO5Q64|         567|\n",
            "|B007M832YY|         564|\n",
            "|B0013NUGDE|         564|\n",
            "|B007M83302|         564|\n",
            "+----------+------------+\n",
            "only showing top 10 rows\n",
            "\n",
            "+--------------+------------+\n",
            "|        UserId|review_count|\n",
            "+--------------+------------+\n",
            "|A3OXHLG6DIBRW8|         448|\n",
            "|A1YUL9PCJR3JTY|         421|\n",
            "| AY12DBB0U420B|         389|\n",
            "|A281NPSIMI1C2R|         365|\n",
            "|A1Z54EM24Y40LL|         256|\n",
            "|A1TMAVN4CEM8U8|         204|\n",
            "|A2MUGFV2TDQ47K|         201|\n",
            "|A3TVZM3ZIXG8YW|         199|\n",
            "|A3PJZ8TU8FDQ1K|         178|\n",
            "| AQQLWCMRNDFGI|         176|\n",
            "+--------------+------------+\n",
            "only showing top 10 rows\n",
            "\n",
            "+-----+------+\n",
            "|Score| count|\n",
            "+-----+------+\n",
            "| NULL|   292|\n",
            "|  0.0|  1111|\n",
            "|  1.0| 52635|\n",
            "|  2.0| 29877|\n",
            "|  3.0| 42502|\n",
            "|  4.0| 80141|\n",
            "|  5.0|361648|\n",
            "|  6.0|    38|\n",
            "|  7.0|    41|\n",
            "|  8.0|    12|\n",
            "|  9.0|    22|\n",
            "| 10.0|    21|\n",
            "| 11.0|     7|\n",
            "| 12.0|     5|\n",
            "| 13.0|     3|\n",
            "| 14.0|    10|\n",
            "| 15.0|     6|\n",
            "| 16.0|     5|\n",
            "| 17.0|     3|\n",
            "| 18.0|     3|\n",
            "+-----+------+\n",
            "only showing top 20 rows\n",
            "\n"
          ]
        }
      ]
    },
    {
      "cell_type": "code",
      "source": [
        "\n",
        "spark.stop()\n",
        "\n"
      ],
      "metadata": {
        "id": "NbSTgevEzHlm"
      },
      "execution_count": null,
      "outputs": []
    },
    {
      "cell_type": "markdown",
      "source": [
        "# **PREDICTIVE ANALYSIS**"
      ],
      "metadata": {
        "id": "ZpET_bFhF5qq"
      }
    },
    {
      "cell_type": "code",
      "source": [
        "!pip install pyspark\n",
        "from pyspark.sql import SparkSession\n",
        "from pyspark.sql.functions import col, when\n",
        "from pyspark.ml.feature import Tokenizer, StopWordsRemover, HashingTF, IDF, StringIndexer\n",
        "from pyspark.ml.classification import LogisticRegression\n",
        "from pyspark.ml import Pipeline\n",
        "from pyspark.ml.evaluation import MulticlassClassificationEvaluator\n"
      ],
      "metadata": {
        "colab": {
          "base_uri": "https://localhost:8080/"
        },
        "id": "fHyjYSyszyjW",
        "outputId": "a1588335-2f5b-4e8f-d785-4f4b2ae832a4"
      },
      "execution_count": null,
      "outputs": [
        {
          "output_type": "stream",
          "name": "stdout",
          "text": [
            "Requirement already satisfied: pyspark in /usr/local/lib/python3.11/dist-packages (3.5.1)\n",
            "Requirement already satisfied: py4j==0.10.9.7 in /usr/local/lib/python3.11/dist-packages (from pyspark) (0.10.9.7)\n"
          ]
        }
      ]
    },
    {
      "cell_type": "code",
      "source": [
        "df = df.withColumn(\"label\", when(col(\"Score\") >= 4, 1).otherwise(0))\n",
        "df = df.select(\"Text\", \"label\").na.drop()\n"
      ],
      "metadata": {
        "id": "cl73KOaIwmEp"
      },
      "execution_count": null,
      "outputs": []
    },
    {
      "cell_type": "code",
      "source": [
        "tokenizer = Tokenizer(inputCol=\"Text\", outputCol=\"words\")\n",
        "remover = StopWordsRemover(inputCol=\"words\", outputCol=\"filtered\")\n",
        "hashingTF = HashingTF(inputCol=\"filtered\", outputCol=\"rawFeatures\", numFeatures=2000)\n",
        "idf = IDF(inputCol=\"rawFeatures\", outputCol=\"features\")\n"
      ],
      "metadata": {
        "id": "fTULBDCuwvL3"
      },
      "execution_count": null,
      "outputs": []
    },
    {
      "cell_type": "code",
      "source": [
        "lr = LogisticRegression(featuresCol=\"features\", labelCol=\"label\", maxIter=10)\n",
        "pipeline = Pipeline(stages=[tokenizer, remover, hashingTF, idf, lr])\n",
        "\n",
        "train_df, test_df = df.randomSplit([0.8, 0.2], seed=42)\n",
        "model = pipeline.fit(train_df)\n"
      ],
      "metadata": {
        "id": "DrFvFiOlwyoC"
      },
      "execution_count": null,
      "outputs": []
    },
    {
      "cell_type": "code",
      "source": [
        "predictions = model.transform(test_df)\n",
        "evaluator = MulticlassClassificationEvaluator(labelCol=\"label\", predictionCol=\"prediction\", metricName=\"accuracy\")\n",
        "accuracy = evaluator.evaluate(predictions)\n",
        "print(f\"Test Accuracy: {accuracy:.2f}\")\n"
      ],
      "metadata": {
        "colab": {
          "base_uri": "https://localhost:8080/"
        },
        "id": "CFBHoxLnw2Rb",
        "outputId": "fa858511-97b5-498f-e2d1-46ed34a6e04b"
      },
      "execution_count": null,
      "outputs": [
        {
          "output_type": "stream",
          "name": "stdout",
          "text": [
            "Test Accuracy: 0.83\n"
          ]
        }
      ]
    },
    {
      "cell_type": "code",
      "source": [
        "model.save(\"reviews_model\")\n"
      ],
      "metadata": {
        "id": "wPC2vDNFxSz1"
      },
      "execution_count": null,
      "outputs": []
    },
    {
      "cell_type": "code",
      "source": [
        "from sklearn.metrics import confusion_matrix\n",
        "import matplotlib.pyplot as plt\n",
        "import seaborn as sns\n",
        "\n",
        "# Confusion Matrix\n",
        "cm = confusion_matrix(preds_pd[\"label\"], preds_pd[\"prediction\"])\n",
        "plt.figure(figsize=(5,4))\n",
        "sns.heatmap(cm, annot=True, fmt=\"d\", cmap=\"Blues\")\n",
        "plt.xlabel(\"Predicted\")\n",
        "plt.ylabel(\"Actual\")\n",
        "plt.title(\"Confusion Matrix - Logistic Regression\")\n",
        "plt.show()\n"
      ],
      "metadata": {
        "colab": {
          "base_uri": "https://localhost:8080/",
          "height": 410
        },
        "id": "224vP9CLzX6G",
        "outputId": "88af8155-e660-495e-a571-b36a71be939e"
      },
      "execution_count": null,
      "outputs": [
        {
          "output_type": "display_data",
          "data": {
            "text/plain": [
              "<Figure size 500x400 with 2 Axes>"
            ],
            "image/png": "[encoded data removed]"
          },
          "metadata": {}
        }
      ]
    },
    {
      "cell_type": "code",
      "source": [
        "from sklearn.metrics import roc_curve, auc\n",
        "\n",
        "# Extract probability of positive class\n",
        "preds_pd[\"prob_pos\"] = preds_pd[\"probability\"].apply(lambda x: float(x[1]))\n",
        "fpr, tpr, thresholds = roc_curve(preds_pd[\"label\"], preds_pd[\"prob_pos\"])\n",
        "roc_auc = auc(fpr, tpr)\n",
        "\n",
        "# Plot ROC Curve\n",
        "plt.figure(figsize=(5,4))\n",
        "plt.plot(fpr, tpr, label=f\"AUC = {roc_auc:.2f}\")\n",
        "plt.plot([0, 1], [0, 1], linestyle=\"--\", color=\"gray\")\n",
        "plt.xlabel(\"False Positive Rate\")\n",
        "plt.ylabel(\"True Positive Rate\")\n",
        "plt.title(\"ROC Curve - Logistic Regression\")\n",
        "plt.legend()\n",
        "plt.show()\n"
      ],
      "metadata": {
        "colab": {
          "base_uri": "https://localhost:8080/",
          "height": 410
        },
        "id": "m5mmbFK_zb01",
        "outputId": "7323536c-5de1-498b-9e7e-e8a65a5cd997"
      },
      "execution_count": null,
      "outputs": [
        {
          "output_type": "display_data",
          "data": {
            "text/plain": [
              "<Figure size 500x400 with 1 Axes>"
            ],
            "image/png": "[encoded data removed]"
          },
          "metadata": {}
        }
      ]
    },
    {
      "cell_type": "code",
      "source": [
        "from sklearn.metrics import precision_recall_curve\n",
        "\n",
        "precision, recall, _ = precision_recall_curve(preds_pd[\"label\"], preds_pd[\"prob_pos\"])\n",
        "plt.figure(figsize=(5,4))\n",
        "plt.plot(recall, precision, marker=\".\")\n",
        "plt.xlabel(\"Recall\")\n",
        "plt.ylabel(\"Precision\")\n",
        "plt.title(\"Precision–Recall Curve\")\n",
        "plt.show()\n"
      ],
      "metadata": {
        "colab": {
          "base_uri": "https://localhost:8080/",
          "height": 410
        },
        "id": "7xfGnL3Qzjf8",
        "outputId": "41d2c149-c158-49fa-bd4b-fc1e3021af9a"
      },
      "execution_count": null,
      "outputs": [
        {
          "output_type": "display_data",
          "data": {
            "text/plain": [
              "<Figure size 500x400 with 1 Axes>"
            ],
            "image/png": "[encoded data removed]"
          },
          "metadata": {}
        }
      ]
    },
    {
      "cell_type": "code",
      "source": [
        "from sklearn.metrics import classification_report\n",
        "\n",
        "# Print classification metrics\n",
        "print(classification_report(preds_pd[\"label\"], preds_pd[\"prediction\"]))\n"
      ],
      "metadata": {
        "colab": {
          "base_uri": "https://localhost:8080/"
        },
        "id": "EOtUb2XEzpeQ",
        "outputId": "5e178572-14b3-4e7f-8556-236b0566d640"
      },
      "execution_count": null,
      "outputs": [
        {
          "output_type": "stream",
          "name": "stdout",
          "text": [
            "              precision    recall  f1-score   support\n",
            "\n",
            "           0       0.70      0.42      0.53      9890\n",
            "           1       0.85      0.95      0.90     34038\n",
            "\n",
            "    accuracy                           0.83     43928\n",
            "   macro avg       0.78      0.68      0.71     43928\n",
            "weighted avg       0.82      0.83      0.81     43928\n",
            "\n"
          ]
        }
      ]
    },
    {
      "cell_type": "markdown",
      "source": [
        "# **DASHBOARD**\n"
      ],
      "metadata": {
        "id": "7aWBa7LG0gyT"
      }
    },
    {
      "cell_type": "code",
      "source": [
        "!pip install streamlit plotly pyngrok -q\n"
      ],
      "metadata": {
        "id": "IpnpENzz5Nqo",
        "colab": {
          "base_uri": "https://localhost:8080/"
        },
        "outputId": "7136d411-3bcc-4966-d80b-e789a660d8e3"
      },
      "execution_count": null,
      "outputs": [
        {
          "output_type": "stream",
          "name": "stdout",
          "text": [
            "\u001b[2K     \u001b[90m━━━━━━━━━━━━━━━━━━━━━━━━━━━━━━━━━━━━━━━━\u001b[0m \u001b[32m44.3/44.3 kB\u001b[0m \u001b[31m2.5 MB/s\u001b[0m eta \u001b[36m0:00:00\u001b[0m\n",
            "\u001b[2K   \u001b[90m━━━━━━━━━━━━━━━━━━━━━━━━━━━━━━━━━━━━━━━━\u001b[0m \u001b[32m9.9/9.9 MB\u001b[0m \u001b[31m28.0 MB/s\u001b[0m eta \u001b[36m0:00:00\u001b[0m\n",
            "\u001b[2K   \u001b[90m━━━━━━━━━━━━━━━━━━━━━━━━━━━━━━━━━━━━━━━━\u001b[0m \u001b[32m6.9/6.9 MB\u001b[0m \u001b[31m30.6 MB/s\u001b[0m eta \u001b[36m0:00:00\u001b[0m\n",
            "\u001b[2K   \u001b[90m━━━━━━━━━━━━━━━━━━━━━━━━━━━━━━━━━━━━━━━━\u001b[0m \u001b[32m79.1/79.1 kB\u001b[0m \u001b[31m5.2 MB/s\u001b[0m eta \u001b[36m0:00:00\u001b[0m\n",
            "\u001b[?25h"
          ]
        }
      ]
    },
    {
      "cell_type": "code",
      "source": [
        "%%writefile dashboard.py\n",
        "import streamlit as st\n",
        "import pandas as pd\n",
        "import plotly.express as px\n",
        "import plotly.figure_factory as ff\n",
        "from sklearn.metrics import confusion_matrix, roc_curve, auc, precision_recall_curve, classification_report\n",
        "\n",
        "# Load predictions (assuming you've saved preds_pd.csv earlier)\n",
        "preds_pd = pd.read_csv(\"preds_pd.csv\")\n",
        "\n",
        "st.title(\"📊 Logistic Regression Model Dashboard\")\n",
        "\n",
        "# Confusion Matrix\n",
        "st.subheader(\"Confusion Matrix\")\n",
        "cm = confusion_matrix(preds_pd[\"label\"], preds_pd[\"prediction\"])\n",
        "fig_cm = ff.create_annotated_heatmap(\n",
        "    z=cm,\n",
        "    x=[\"Predicted 0\", \"Predicted 1\"],\n",
        "    y=[\"Actual 0\", \"Actual 1\"],\n",
        "    colorscale=\"Blues\"\n",
        ")\n",
        "st.plotly_chart(fig_cm)\n",
        "\n",
        "# ROC Curve\n",
        "st.subheader(\"ROC Curve\")\n",
        "preds_pd[\"prob_pos\"] = preds_pd[\"probability\"].apply(lambda x: float(x.strip(\"[]\").split(\",\")[1]))\n",
        "fpr, tpr, _ = roc_curve(preds_pd[\"label\"], preds_pd[\"prob_pos\"])\n",
        "roc_auc = auc(fpr, tpr)\n",
        "fig_roc = px.area(\n",
        "    x=fpr, y=tpr,\n",
        "    title=f\"ROC Curve (AUC={roc_auc:.2f})\",\n",
        "    labels=dict(x=\"False Positive Rate\", y=\"True Positive Rate\"),\n",
        "    width=500, height=400\n",
        ")\n",
        "fig_roc.add_shape(type=\"line\", line=dict(dash=\"dash\"), x0=0, x1=1, y0=0, y1=1)\n",
        "st.plotly_chart(fig_roc)\n",
        "\n",
        "# Precision-Recall Curve\n",
        "st.subheader(\"Precision–Recall Curve\")\n",
        "precision, recall, _ = precision_recall_curve(preds_pd[\"label\"], preds_pd[\"prob_pos\"])\n",
        "fig_pr = px.line(\n",
        "    x=recall, y=precision,\n",
        "    labels=dict(x=\"Recall\", y=\"Precision\"),\n",
        "    title=\"Precision–Recall Curve\"\n",
        ")\n",
        "st.plotly_chart(fig_pr)\n",
        "\n",
        "# Classification Report\n",
        "st.subheader(\"Classification Report\")\n",
        "report = classification_report(preds_pd[\"label\"], preds_pd[\"prediction\"], output_dict=True)\n",
        "report_df = pd.DataFrame(report).transpose()\n",
        "st.dataframe(report_df)\n"
      ],
      "metadata": {
        "id": "yg57JaNM5_bZ",
        "colab": {
          "base_uri": "https://localhost:8080/"
        },
        "outputId": "6af57259-81d1-4ae5-fa4a-bfa5ebe85ea2"
      },
      "execution_count": null,
      "outputs": [
        {
          "output_type": "stream",
          "name": "stdout",
          "text": [
            "Writing dashboard.py\n"
          ]
        }
      ]
    },
    {
      "cell_type": "code",
      "source": [
        "# Mount Drive (so you don't re-upload every time)\n",
        "from google.colab import drive\n",
        "drive.mount('/content/drive')\n",
        "\n",
        "# EDIT THIS PATH if your file is elsewhere in Drive\n",
        "gdrive_path = \"/content/drive/MyDrive/Reviews.csv\"  # <-- change if needed\n",
        "\n",
        "import os\n",
        "if not os.path.exists(gdrive_path):\n",
        "    raise FileNotFoundError(f\"Couldn't find Reviews.csv at {gdrive_path}. Put the file there or change the path.\")\n",
        "print(\"Found Reviews.csv at:\", gdrive_path)\n"
      ],
      "metadata": {
        "colab": {
          "base_uri": "https://localhost:8080/"
        },
        "id": "WG2hexcasd50",
        "outputId": "6bd03114-5fe4-4fa3-8436-8d3c8731b83a"
      },
      "execution_count": null,
      "outputs": [
        {
          "output_type": "stream",
          "name": "stdout",
          "text": [
            "Drive already mounted at /content/drive; to attempt to forcibly remount, call drive.mount(\"/content/drive\", force_remount=True).\n",
            "Found Reviews.csv at: /content/drive/MyDrive/Reviews.csv\n"
          ]
        }
      ]
    },
    {
      "cell_type": "code",
      "source": [
        "\n",
        "# Start a Spark session\n",
        "from pyspark.sql import SparkSession\n",
        "spark = SparkSession.builder \\\n",
        "    .appName(\"ReviewsClassification\") \\\n",
        "    .config(\"spark.driver.memory\",\"4g\") \\\n",
        "    .getOrCreate()\n",
        "\n",
        "# Load CSV from Drive\n",
        "df = spark.read.csv(gdrive_path, header=True, inferSchema=True)\n",
        "print(\"Rows:\", df.count())\n",
        "df.show(5)\n",
        "df.printSchema()\n"
      ],
      "metadata": {
        "colab": {
          "base_uri": "https://localhost:8080/"
        },
        "id": "IsCF9Z-p2P7p",
        "outputId": "7613a8fe-8267-4dfd-f52c-c7fdedfeacf2"
      },
      "execution_count": null,
      "outputs": [
        {
          "output_type": "stream",
          "name": "stdout",
          "text": [
            "Rows: 568454\n",
            "+---+----------+--------------+--------------------+--------------------+----------------------+-----+----------+--------------------+--------------------+\n",
            "| Id| ProductId|        UserId|         ProfileName|HelpfulnessNumerator|HelpfulnessDenominator|Score|      Time|             Summary|                Text|\n",
            "+---+----------+--------------+--------------------+--------------------+----------------------+-----+----------+--------------------+--------------------+\n",
            "|  1|B001E4KFG0|A3SGXH7AUHU8GW|          delmartian|                   1|                     1|    5|1303862400|Good Quality Dog ...|I have bought sev...|\n",
            "|  2|B00813GRG4|A1D87F6ZCVE5NK|              dll pa|                   0|                     0|    1|1346976000|   Not as Advertised|\"Product arrived ...|\n",
            "|  3|B000LQOCH0| ABXLMWJIXXAIN|\"Natalia Corres \"...|                   1|                     1|    4|1219017600|\"\"\"Delight\"\" says...|\"This is a confec...|\n",
            "|  4|B000UA0QIQ|A395BORC6FGVXV|                Karl|                   3|                     3|    2|1307923200|      Cough Medicine|If you are lookin...|\n",
            "|  5|B006K2ZZ7K|A1UQRSCLF8GW1T|\"Michael D. Bigha...|                   0|                     0|    5|1350777600|         Great taffy|Great taffy at a ...|\n",
            "+---+----------+--------------+--------------------+--------------------+----------------------+-----+----------+--------------------+--------------------+\n",
            "only showing top 5 rows\n",
            "\n",
            "root\n",
            " |-- Id: integer (nullable = true)\n",
            " |-- ProductId: string (nullable = true)\n",
            " |-- UserId: string (nullable = true)\n",
            " |-- ProfileName: string (nullable = true)\n",
            " |-- HelpfulnessNumerator: string (nullable = true)\n",
            " |-- HelpfulnessDenominator: string (nullable = true)\n",
            " |-- Score: string (nullable = true)\n",
            " |-- Time: string (nullable = true)\n",
            " |-- Summary: string (nullable = true)\n",
            " |-- Text: string (nullable = true)\n",
            "\n"
          ]
        }
      ]
    },
    {
      "cell_type": "code",
      "source": [
        "from pyspark.sql.functions import when, col\n",
        "\n",
        "# Create binary label: positive if Score >= 4, else negative\n",
        "if 'Score' not in df.columns:\n",
        "    raise ValueError(\"No 'Score' column found. Edit dataset or code.\")\n",
        "\n",
        "df = df.withColumn(\"label\", when(col(\"Score\") >= 4, 1).otherwise(0))\n",
        "\n",
        "# Try typical text column names\n",
        "possible_text_cols = [c for c in df.columns if c.lower() in ('text','review','reviewtext','review_text','reviewbody','reviewbodystring')]\n",
        "if not possible_text_cols:\n",
        "    # fallback: choose a string column with long average length\n",
        "    string_cols = [c for c, t in df.dtypes if t == 'string']\n",
        "    chosen = None\n",
        "    for c in string_cols:\n",
        "        avg_len = df.selectExpr(f\"avg(length({c})) as avg_len\").collect()[0]['avg_len']\n",
        "        if avg_len and avg_len > 20:\n",
        "            chosen = c\n",
        "            break\n",
        "    if not chosen:\n",
        "        raise ValueError(\"Couldn't auto-detect a text column. Rename your review text column to 'Text' or similar.\")\n",
        "    text_col = chosen\n",
        "else:\n",
        "    text_col = possible_text_cols[0]\n",
        "\n",
        "print(\"Using text column:\", text_col)\n",
        "\n",
        "# Keep only required cols and drop null texts\n",
        "df = df.select(col(text_col).alias(\"text\"), col(\"label\")).na.drop(subset=[\"text\"])\n",
        "df.show(5)\n"
      ],
      "metadata": {
        "colab": {
          "base_uri": "https://localhost:8080/"
        },
        "id": "aDUkHsre2UOg",
        "outputId": "8a52b66e-73f1-4b31-82a0-731abbcd15c1"
      },
      "execution_count": null,
      "outputs": [
        {
          "output_type": "stream",
          "name": "stdout",
          "text": [
            "Using text column: Text\n",
            "+--------------------+-----+\n",
            "|                text|label|\n",
            "+--------------------+-----+\n",
            "|I have bought sev...|    1|\n",
            "|\"Product arrived ...|    0|\n",
            "|\"This is a confec...|    1|\n",
            "|If you are lookin...|    0|\n",
            "|Great taffy at a ...|    1|\n",
            "+--------------------+-----+\n",
            "only showing top 5 rows\n",
            "\n"
          ]
        }
      ]
    },
    {
      "cell_type": "code",
      "source": [
        "from pyspark.ml import Pipeline\n",
        "from pyspark.ml.feature import Tokenizer, StopWordsRemover, HashingTF, IDF\n",
        "from pyspark.ml.classification import LogisticRegression\n",
        "from pyspark.ml.evaluation import BinaryClassificationEvaluator\n",
        "\n",
        "# Pipeline stages\n",
        "tokenizer = Tokenizer(inputCol=\"text\", outputCol=\"words\")\n",
        "remover = StopWordsRemover(inputCol=\"words\", outputCol=\"filtered\")\n",
        "hashingTF = HashingTF(inputCol=\"filtered\", outputCol=\"rawFeatures\", numFeatures=20000)\n",
        "idf = IDF(inputCol=\"rawFeatures\", outputCol=\"features\")\n",
        "lr = LogisticRegression(featuresCol=\"features\", labelCol=\"label\", maxIter=20)\n",
        "\n",
        "pipeline = Pipeline(stages=[tokenizer, remover, hashingTF, idf, lr])\n",
        "\n",
        "# Train/test split and fit\n",
        "train_df, test_df = df.randomSplit([0.8, 0.2], seed=42)\n",
        "print(\"Train rows:\", train_df.count(), \"Test rows:\", test_df.count())\n",
        "\n",
        "model = pipeline.fit(train_df)\n",
        "predictions = model.transform(test_df).cache()\n",
        "predictions.select(\"text\", \"label\", \"prediction\", \"probability\").show(5, truncate=100)\n"
      ],
      "metadata": {
        "id": "cSMxZQGe2mbr",
        "colab": {
          "base_uri": "https://localhost:8080/"
        },
        "outputId": "4527ffdf-99b2-491b-efd6-9eb756071620"
      },
      "execution_count": null,
      "outputs": [
        {
          "output_type": "stream",
          "name": "stdout",
          "text": [
            "Train rows: 454646 Test rows: 113798\n",
            "+----------------------------------------+-----+----------+----------------------------------------+\n",
            "|                                    text|label|prediction|                             probability|\n",
            "+----------------------------------------+-----+----------+----------------------------------------+\n",
            "| But the \"\"Sea Salt\"\" Chips Taste Funky\"|    0|       1.0| [0.4992322074680543,0.5007677925319457]|\n",
            "|                                   Grape|    1|       1.0| [0.2695604384465564,0.7304395615534436]|\n",
            "|                  He's a Big Boy Now!\"\"\"|    1|       1.0|[0.20346341227352185,0.7965365877264782]|\n",
            "|                               Mommy!\"\"\"|    1|       1.0|[0.15929592562931158,0.8407040743706884]|\n",
            "|                                Stand Up|    1|       1.0|[0.26830994843649025,0.7316900515635097]|\n",
            "+----------------------------------------+-----+----------+----------------------------------------+\n",
            "only showing top 5 rows\n",
            "\n"
          ]
        }
      ]
    },
    {
      "cell_type": "code",
      "source": [
        "from pyspark.ml.evaluation import MulticlassClassificationEvaluator\n",
        "from pyspark.sql.functions import udf\n",
        "from pyspark.sql.types import DoubleType, IntegerType\n",
        "\n",
        "# Accuracy\n",
        "evaluator_acc = MulticlassClassificationEvaluator(labelCol=\"label\", predictionCol=\"prediction\", metricName=\"accuracy\")\n",
        "acc = evaluator_acc.evaluate(predictions)\n",
        "print(f\"Accuracy = {acc:.4f}\")\n",
        "\n",
        "# AUC (Binary)\n",
        "evaluator_auc = BinaryClassificationEvaluator(rawPredictionCol=\"rawPrediction\", labelCol=\"label\", metricName=\"areaUnderROC\")\n",
        "auc = evaluator_auc.evaluate(predictions)\n",
        "print(f\"AUC = {auc:.4f}\")\n",
        "\n",
        "# Confusion matrix (collect to driver)\n",
        "pred_pd = predictions.select(\"label\", \"prediction\", \"probability\").toPandas()\n",
        "# add prob_pos numeric column\n",
        "pred_pd['prob_pos'] = pred_pd['probability'].apply(lambda v: float(v[1]))\n",
        "print(pred_pd[['label','prediction','prob_pos']].head())\n"
      ],
      "metadata": {
        "colab": {
          "base_uri": "https://localhost:8080/"
        },
        "id": "BuuIRGqY2yLE",
        "outputId": "a5181409-51c2-4443-95a5-42097325ac40"
      },
      "execution_count": null,
      "outputs": [
        {
          "output_type": "stream",
          "name": "stdout",
          "text": [
            "Accuracy = 0.8805\n",
            "AUC = 0.9106\n",
            "   label  prediction  prob_pos\n",
            "0      0         1.0  0.500768\n",
            "1      1         1.0  0.730440\n",
            "2      1         1.0  0.796537\n",
            "3      1         1.0  0.840704\n",
            "4      1         1.0  0.731690\n"
          ]
        }
      ]
    },
    {
      "cell_type": "code",
      "source": [
        "# Save preds to CSV (Streamlit will read this)\n",
        "preds_path = \"/content/preds_pd.csv\"\n",
        "pred_pd.to_csv(preds_path, index=False)\n",
        "print(\"Saved predictions to\", preds_path)\n"
      ],
      "metadata": {
        "colab": {
          "base_uri": "https://localhost:8080/"
        },
        "id": "crvctjTi4GOV",
        "outputId": "b47b24a0-dfb7-4532-c44c-5fb6153f9bcc"
      },
      "execution_count": null,
      "outputs": [
        {
          "output_type": "stream",
          "name": "stdout",
          "text": [
            "Saved predictions to /content/preds_pd.csv\n"
          ]
        }
      ]
    },
    {
      "cell_type": "code",
      "source": [
        "%%writefile dashboard.py\n",
        "import streamlit as st\n",
        "import pandas as pd\n",
        "import plotly.express as px\n",
        "from sklearn.metrics import confusion_matrix, roc_curve, auc, precision_recall_curve, classification_report\n",
        "import plotly.figure_factory as ff\n",
        "\n",
        "st.set_page_config(page_title=\"Logistic Regression Dashboard\", layout=\"centered\")\n",
        "\n",
        "st.title(\"📊 Logistic Regression Results Dashboard\")\n",
        "\n",
        "# Load preds\n",
        "preds = pd.read_csv(\"preds_pd.csv\")\n",
        "st.markdown(\"### Dataset preview\")\n",
        "st.dataframe(preds.head(200))\n",
        "\n",
        "# Confusion Matrix\n",
        "st.markdown(\"### Confusion Matrix\")\n",
        "cm = confusion_matrix(preds[\"label\"], preds[\"prediction\"])\n",
        "fig_cm = ff.create_annotated_heatmap(\n",
        "    z=cm.tolist(),\n",
        "    x=[\"Predicted 0\", \"Predicted 1\"],\n",
        "    y=[\"Actual 0\", \"Actual 1\"],\n",
        "    colorscale=\"Blues\"\n",
        ")\n",
        "fig_cm.update_layout(width=600, height=450)\n",
        "st.plotly_chart(fig_cm)\n",
        "\n",
        "# ROC Curve\n",
        "st.markdown(\"### ROC Curve & AUC\")\n",
        "fpr, tpr, _ = roc_curve(preds[\"label\"], preds[\"prob_pos\"])\n",
        "roc_auc = auc(fpr, tpr)\n",
        "fig_roc = px.area(x=fpr, y=tpr, title=f\"ROC Curve (AUC={roc_auc:.3f})\",\n",
        "                  labels=dict(x=\"False Positive Rate\", y=\"True Positive Rate\"))\n",
        "fig_roc.add_shape(type=\"line\", x0=0, x1=1, y0=0, y1=1, line=dict(dash=\"dash\"))\n",
        "st.plotly_chart(fig_roc)\n",
        "\n",
        "# Precision-Recall\n",
        "st.markdown(\"### Precision–Recall Curve\")\n",
        "precision, recall, _ = precision_recall_curve(preds[\"label\"], preds[\"prob_pos\"])\n",
        "fig_pr = px.line(x=recall, y=precision, labels=dict(x=\"Recall\", y=\"Precision\"), title=\"Precision–Recall Curve\")\n",
        "st.plotly_chart(fig_pr)\n",
        "\n",
        "# Classification report\n",
        "st.markdown(\"### Classification Report\")\n",
        "report = classification_report(preds[\"label\"], preds[\"prediction\"], output_dict=True)\n",
        "report_df = pd.DataFrame(report).transpose()\n",
        "st.dataframe(report_df)\n"
      ],
      "metadata": {
        "colab": {
          "base_uri": "https://localhost:8080/"
        },
        "id": "zA5BNpYw4QhP",
        "outputId": "1817dd7c-0e01-4a50-ac1b-0087a8d42e43"
      },
      "execution_count": null,
      "outputs": [
        {
          "output_type": "stream",
          "name": "stdout",
          "text": [
            "Writing dashboard.py\n"
          ]
        }
      ]
    },
    {
      "cell_type": "code",
      "source": [
        "!ngrok config add-authtoken YOUR_AUTHTOKEN_HERE\n"
      ],
      "metadata": {
        "colab": {
          "base_uri": "https://localhost:8080/"
        },
        "id": "85Czr9zL6VnF",
        "outputId": "613475f3-5878-47e3-efcf-fd2bd93cff3f"
      },
      "execution_count": null,
      "outputs": [
        {
          "output_type": "stream",
          "name": "stdout",
          "text": [
            "Authtoken saved to configuration file: /root/.config/ngrok/ngrok.yml\n"
          ]
        }
      ]
    },
    {
      "cell_type": "code",
      "source": [
        "!ngrok config add-authtoken cr_313lvbfEmVBaxNRTjePU9i12sRp\n"
      ],
      "metadata": {
        "colab": {
          "base_uri": "https://localhost:8080/"
        },
        "id": "OAwBD0Vo60vD",
        "outputId": "519fb103-61b7-4024-971c-303c3c22c817"
      },
      "execution_count": null,
      "outputs": [
        {
          "output_type": "stream",
          "name": "stdout",
          "text": [
            "Authtoken saved to configuration file: /root/.config/ngrok/ngrok.yml\n"
          ]
        }
      ]
    },
    {
      "cell_type": "code",
      "source": [
        "# Install and set up ngrok\n",
        "!pip install pyngrok --quiet\n",
        "\n",
        "# 🔹 Add your ngrok Authtoken here\n",
        "# Get it from https://dashboard.ngrok.com/get-started/your-authtoken\n",
        "NGROK_AUTH_TOKEN = \"313muduGjMFFYVTlGuuFmPnMvlS_2Q8vTEwMYcGhMS5hTceQx\"\n",
        "\n",
        "# Configure ngrok with your token\n",
        "!ngrok config add-authtoken $NGROK_AUTH_TOKEN\n",
        "\n",
        "from pyngrok import ngrok\n",
        "\n",
        "# Start HTTP tunnel for the dashboard\n",
        "public_url = ngrok.connect(8050)\n",
        "print(\"Public Dashboard URL:\", public_url)\n"
      ],
      "metadata": {
        "colab": {
          "base_uri": "https://localhost:8080/"
        },
        "id": "6-sy-RqT69T8",
        "outputId": "1642890e-415c-4ce4-a6ba-b270a87ff05b"
      },
      "execution_count": null,
      "outputs": [
        {
          "output_type": "stream",
          "name": "stdout",
          "text": [
            "Authtoken saved to configuration file: /root/.config/ngrok/ngrok.yml\n"
          ]
        },
        {
          "output_type": "stream",
          "name": "stderr",
          "text": [
            "WARNING:pyngrok.process.ngrok:t=2025-08-09T17:43:03+0000 lvl=warn msg=\"can't bind default web address, trying alternatives\" obj=web addr=127.0.0.1:4040\n"
          ]
        },
        {
          "output_type": "stream",
          "name": "stdout",
          "text": [
            "Public Dashboard URL: NgrokTunnel: \"https://fa35c00a038d.ngrok-free.app\" -> \"http://localhost:8050\"\n"
          ]
        }
      ]
    },
    {
      "cell_type": "markdown",
      "source": [
        "# **#SENTIMENTAL ANALYSIS**"
      ],
      "metadata": {
        "id": "HGORWvWsEg1M"
      }
    },
    {
      "cell_type": "code",
      "source": [
        "#INSTALL AND IMPORT PYSPARK\n",
        "!pip install pyspark\n"
      ],
      "metadata": {
        "colab": {
          "base_uri": "https://localhost:8080/"
        },
        "id": "7n3SXuvMC1LH",
        "outputId": "264d254d-1c3d-45f3-affe-e4e4567e63b4"
      },
      "execution_count": null,
      "outputs": [
        {
          "output_type": "stream",
          "name": "stdout",
          "text": [
            "Requirement already satisfied: pyspark in /usr/local/lib/python3.11/dist-packages (3.5.1)\n",
            "Requirement already satisfied: py4j==0.10.9.7 in /usr/local/lib/python3.11/dist-packages (from pyspark) (0.10.9.7)\n"
          ]
        }
      ]
    },
    {
      "cell_type": "code",
      "source": [
        "from pyspark.sql import SparkSession\n",
        "from pyspark.sql.functions import col, when\n",
        "from pyspark.ml.feature import Tokenizer, StopWordsRemover, HashingTF, IDF, StringIndexer\n",
        "from pyspark.ml.classification import LogisticRegression\n",
        "from pyspark.ml.evaluation import MulticlassClassificationEvaluator\n"
      ],
      "metadata": {
        "id": "_dHFHxBzDSbD"
      },
      "execution_count": null,
      "outputs": []
    },
    {
      "cell_type": "code",
      "source": [
        "#START SPARK AND LOAD DATA\n",
        "spark = SparkSession.builder.appName(\"SentimentAnalysis\").getOrCreate()\n",
        "\n",
        "# Change path to your actual file location\n",
        "df = spark.read.csv(\"/content/Reviews.csv\", header=True, inferSchema=True)\n",
        "\n",
        "df.show(5)\n"
      ],
      "metadata": {
        "colab": {
          "base_uri": "https://localhost:8080/"
        },
        "id": "H2u57qi_DU9b",
        "outputId": "c03ce067-92a7-4571-cc3a-d384dd1742d7"
      },
      "execution_count": null,
      "outputs": [
        {
          "output_type": "stream",
          "name": "stdout",
          "text": [
            "+---+----------+--------------+--------------------+--------------------+----------------------+-----+----------+--------------------+--------------------+\n",
            "| Id| ProductId|        UserId|         ProfileName|HelpfulnessNumerator|HelpfulnessDenominator|Score|      Time|             Summary|                Text|\n",
            "+---+----------+--------------+--------------------+--------------------+----------------------+-----+----------+--------------------+--------------------+\n",
            "|  1|B001E4KFG0|A3SGXH7AUHU8GW|          delmartian|                   1|                     1|    5|1303862400|Good Quality Dog ...|I have bought sev...|\n",
            "|  2|B00813GRG4|A1D87F6ZCVE5NK|              dll pa|                   0|                     0|    1|1346976000|   Not as Advertised|\"Product arrived ...|\n",
            "|  3|B000LQOCH0| ABXLMWJIXXAIN|\"Natalia Corres \"...|                   1|                     1|    4|1219017600|\"\"\"Delight\"\" says...|\"This is a confec...|\n",
            "|  4|B000UA0QIQ|A395BORC6FGVXV|                Karl|                   3|                     3|    2|1307923200|      Cough Medicine|If you are lookin...|\n",
            "|  5|B006K2ZZ7K|A1UQRSCLF8GW1T|\"Michael D. Bigha...|                   0|                     0|    5|1350777600|         Great taffy|Great taffy at a ...|\n",
            "+---+----------+--------------+--------------------+--------------------+----------------------+-----+----------+--------------------+--------------------+\n",
            "only showing top 5 rows\n",
            "\n"
          ]
        }
      ]
    },
    {
      "cell_type": "code",
      "source": [
        "#PREPARE SENTIMENT LABELS\n",
        "df = df.withColumn(\"label\", when(col(\"Score\") >= 4, \"positive\")\n",
        "                                 .when(col(\"Score\") <= 2, \"negative\")\n",
        "                                 .otherwise(\"neutral\"))\n",
        "\n",
        "df = df.filter(df.label != \"neutral\")  # Remove neutral for binary classification\n",
        "df.show(5)\n"
      ],
      "metadata": {
        "colab": {
          "base_uri": "https://localhost:8080/"
        },
        "id": "hE-0BHj2DW43",
        "outputId": "1f4ba55d-23a8-40d1-f4cd-d3289065659e"
      },
      "execution_count": null,
      "outputs": [
        {
          "output_type": "stream",
          "name": "stdout",
          "text": [
            "+---+----------+--------------+--------------------+--------------------+----------------------+-----+----------+--------------------+--------------------+--------+\n",
            "| Id| ProductId|        UserId|         ProfileName|HelpfulnessNumerator|HelpfulnessDenominator|Score|      Time|             Summary|                Text|   label|\n",
            "+---+----------+--------------+--------------------+--------------------+----------------------+-----+----------+--------------------+--------------------+--------+\n",
            "|  1|B001E4KFG0|A3SGXH7AUHU8GW|          delmartian|                   1|                     1|    5|1303862400|Good Quality Dog ...|I have bought sev...|positive|\n",
            "|  2|B00813GRG4|A1D87F6ZCVE5NK|              dll pa|                   0|                     0|    1|1346976000|   Not as Advertised|\"Product arrived ...|negative|\n",
            "|  3|B000LQOCH0| ABXLMWJIXXAIN|\"Natalia Corres \"...|                   1|                     1|    4|1219017600|\"\"\"Delight\"\" says...|\"This is a confec...|positive|\n",
            "|  4|B000UA0QIQ|A395BORC6FGVXV|                Karl|                   3|                     3|    2|1307923200|      Cough Medicine|If you are lookin...|negative|\n",
            "|  5|B006K2ZZ7K|A1UQRSCLF8GW1T|\"Michael D. Bigha...|                   0|                     0|    5|1350777600|         Great taffy|Great taffy at a ...|positive|\n",
            "+---+----------+--------------+--------------------+--------------------+----------------------+-----+----------+--------------------+--------------------+--------+\n",
            "only showing top 5 rows\n",
            "\n"
          ]
        }
      ]
    },
    {
      "cell_type": "code",
      "source": [
        "#PREPROCESSING\n",
        "# Tokenize\n",
        "tokenizer = Tokenizer(inputCol=\"Text\", outputCol=\"words\")\n",
        "df = tokenizer.transform(df)\n",
        "\n",
        "# Remove stopwords\n",
        "remover = StopWordsRemover(inputCol=\"words\", outputCol=\"filtered_words\")\n",
        "df = remover.transform(df)\n",
        "\n",
        "# Convert to numerical features (TF-IDF)\n",
        "hashingTF = HashingTF(inputCol=\"filtered_words\", outputCol=\"rawFeatures\", numFeatures=10000)\n",
        "df = hashingTF.transform(df)\n",
        "\n",
        "idf = IDF(inputCol=\"rawFeatures\", outputCol=\"features\")\n",
        "idfModel = idf.fit(df)\n",
        "df = idfModel.transform(df)\n"
      ],
      "metadata": {
        "id": "0bBrBTbeDyKZ"
      },
      "execution_count": null,
      "outputs": []
    },
    {
      "cell_type": "code",
      "source": [
        "#ENCODE LABELS\n",
        "indexer = StringIndexer(inputCol=\"label\", outputCol=\"labelIndex\")\n",
        "df = indexer.fit(df).transform(df)\n"
      ],
      "metadata": {
        "id": "DnuM6jkcD1fz"
      },
      "execution_count": null,
      "outputs": []
    },
    {
      "cell_type": "code",
      "source": [
        "#TRAIN AND TEST SPLIT\n",
        "train_df, test_df = df.randomSplit([0.8, 0.2], seed=42)\n"
      ],
      "metadata": {
        "id": "V499e1HTD43T"
      },
      "execution_count": null,
      "outputs": []
    },
    {
      "cell_type": "code",
      "source": [
        "#TRAIN LOGISTIC REGRESSION MODEL\n",
        "lr = LogisticRegression(featuresCol=\"features\", labelCol=\"labelIndex\")\n",
        "lr_model = lr.fit(train_df)\n"
      ],
      "metadata": {
        "id": "roo5ZISXD6jM"
      },
      "execution_count": null,
      "outputs": []
    },
    {
      "cell_type": "code",
      "source": [
        "#PREDICTIONS AND EVALUATION\n",
        "predictions = lr_model.transform(test_df)\n",
        "predictions.select(\"Text\", \"label\", \"prediction\").show(10, truncate=False)\n",
        "\n",
        "evaluator = MulticlassClassificationEvaluator(labelCol=\"labelIndex\", predictionCol=\"prediction\", metricName=\"accuracy\")\n",
        "accuracy = evaluator.evaluate(predictions)\n",
        "print(\"Test Accuracy:\", accuracy)\n"
      ],
      "metadata": {
        "colab": {
          "base_uri": "https://localhost:8080/"
        },
        "id": "bedW2IBOD88k",
        "outputId": "081e2929-d8e2-46a5-d04f-643b0e338b0b"
      },
      "execution_count": null,
      "outputs": [
        {
          "output_type": "stream",
          "name": "stdout",
          "text": [
            "+-----------------------------------------------------------------------------------------------------------------------------------------------------------------------------------------------------------------------------------------------------------------------------------------------------------------------------------------------------------------------------------------------------------------------------------------------------------------------------------------------------------------------------------------------------------------------------------------------------------------------------------------------------------------------------------------------------------------------------------------------------------------------------------------------------------+--------+----------+\n",
            "|Text                                                                                                                                                                                                                                                                                                                                                                                                                                                                                                                                                                                                                                                                                                                                                                                                       |label   |prediction|\n",
            "+-----------------------------------------------------------------------------------------------------------------------------------------------------------------------------------------------------------------------------------------------------------------------------------------------------------------------------------------------------------------------------------------------------------------------------------------------------------------------------------------------------------------------------------------------------------------------------------------------------------------------------------------------------------------------------------------------------------------------------------------------------------------------------------------------------------+--------+----------+\n",
            "|\"This is a confection that has been around a few centuries.  It is a light, pillowy citrus gelatin with nuts - in this case Filberts. And it is cut into tiny squares and then liberally coated with powdered sugar.  And it is a tiny mouthful of heaven.  Not too chewy, and very flavorful.  I highly recommend this yummy treat.  If you are familiar with the story of C.S. Lewis' \"\"The Lion                                                                                                                                                                                                                                                                                                                                                                                                         |positive|0.0       |\n",
            "|This saltwater taffy had great flavors and was very soft and chewy.  Each candy was individually wrapped well.  None of the candies were stuck together, which did happen in the expensive version, Fralinger's.  Would highly recommend this candy!  I served it at a beach-themed party and everyone loved it!                                                                                                                                                                                                                                                                                                                                                                                                                                                                                           |positive|0.0       |\n",
            "|Right now I'm mostly just sprouting this so my cats can eat the grass. They love it. I rotate it around with Wheatgrass and Rye too                                                                                                                                                                                                                                                                                                                                                                                                                                                                                                                                                                                                                                                                        |positive|1.0       |\n",
            "|good flavor! these came securely packed... they were fresh and delicious! i love these Twizzlers!                                                                                                                                                                                                                                                                                                                                                                                                                                                                                                                                                                                                                                                                                                          |positive|0.0       |\n",
            "|Candy was delivered very fast and was purchased at a reasonable price.  I was home bound and unable to get to a store so this was perfect for me.                                                                                                                                                                                                                                                                                                                                                                                                                                                                                                                                                                                                                                                          |positive|0.0       |\n",
            "|I love this candy.  After weight watchers I had to cut back but still have a craving for it.                                                                                                                                                                                                                                                                                                                                                                                                                                                                                                                                                                                                                                                                                                               |positive|0.0       |\n",
            "|I don't know if it's the cactus or the tequila or just the unique combination of ingredients, but the flavour of this hot sauce makes it one of a kind!  We picked up a bottle once on a trip we were on and brought it back home with us and were totally blown away!  When we realized that we simply couldn't find it anywhere in our city we were bummed.<br /><br />Now, because of the magic of the internet, we have a case of the sauce and are ecstatic because of it.<br /><br />If you love hot sauce..I mean really love hot sauce, but don't want a sauce that tastelessly burns your throat, grab a bottle of Tequila Picante Gourmet de Inclan.  Just realize that once you taste it, you will never want to use any other sauce.<br /><br />Thank you for the personal, incredible service!|positive|0.0       |\n",
            "|McCann's Instant Irish Oatmeal, Variety Pack of Regular, Apples & Cinnamon, and Maple & Brown Sugar, 10-Count Boxes (Pack of 6)<br /><br />I'm a fan of the McCann's steel-cut oats, so I thought I'd give the instant variety a try. I found it to be a hardy meal, not too sweet, and great for folks like me (post-bariatric surgery) who need food that is palatable, easily digestible, with fiber but won't make you bloat.                                                                                                                                                                                                                                                                                                                                                                          |positive|0.0       |\n",
            "|Good oatmeal.  I like the apple cinnamon the best.  Though I wouldn't follow the directions on the package since it always comes out too soupy for my taste.  That could just be me since I like my oatmeal really thick to add some milk on top of.                                                                                                                                                                                                                                                                                                                                                                                                                                                                                                                                                       |positive|0.0       |\n",
            "|I really like the Maple and Brown Sugar flavor. The regular is fine with brown sugar added. The Apples and Cinnamon flavor is OK. This is a very quick, easy and satisfying breakfast and I'll order this brand again, but not the variety. I'll get all Maple and Brown Sugar.                                                                                                                                                                                                                                                                                                                                                                                                                                                                                                                            |positive|0.0       |\n",
            "+-----------------------------------------------------------------------------------------------------------------------------------------------------------------------------------------------------------------------------------------------------------------------------------------------------------------------------------------------------------------------------------------------------------------------------------------------------------------------------------------------------------------------------------------------------------------------------------------------------------------------------------------------------------------------------------------------------------------------------------------------------------------------------------------------------------+--------+----------+\n",
            "only showing top 10 rows\n",
            "\n",
            "Test Accuracy: 0.7554151624548736\n"
          ]
        }
      ]
    }
  ]
}